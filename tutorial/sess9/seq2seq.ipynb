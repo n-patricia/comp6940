{
  "nbformat": 4,
  "nbformat_minor": 0,
  "metadata": {
    "colab": {
      "provenance": [],
      "gpuType": "T4"
    },
    "kernelspec": {
      "name": "python3",
      "display_name": "Python 3"
    },
    "language_info": {
      "name": "python"
    },
    "accelerator": "GPU"
  },
  "cells": [
    {
      "cell_type": "code",
      "execution_count": 4,
      "metadata": {
        "id": "iEp376Zv8zd9"
      },
      "outputs": [],
      "source": [
        "import io\n",
        "import unicodedata\n",
        "import re\n",
        "import random\n",
        "import time\n",
        "import math\n",
        "import numpy as np\n",
        "import matplotlib.pyplot as plt\n",
        "import matplotlib.ticker as ticker\n",
        "\n",
        "import torch\n",
        "import torch.nn as nn\n",
        "import torch.nn.functional as F\n",
        "import torch.optim as optim\n",
        "from torch.utils.data import TensorDataset, DataLoader, RandomSampler"
      ]
    },
    {
      "cell_type": "code",
      "source": [
        "!wget https://download.pytorch.org/tutorial/data.zip ."
      ],
      "metadata": {
        "colab": {
          "base_uri": "https://localhost:8080/"
        },
        "id": "rWiw7-7lIH8O",
        "outputId": "f0f92c79-6442-49a7-cc56-328a73cca28b"
      },
      "execution_count": 3,
      "outputs": [
        {
          "output_type": "stream",
          "name": "stdout",
          "text": [
            "--2024-04-29 17:06:23--  https://download.pytorch.org/tutorial/data.zip\n",
            "Resolving download.pytorch.org (download.pytorch.org)... 18.160.200.126, 18.160.200.77, 18.160.200.71, ...\n",
            "Connecting to download.pytorch.org (download.pytorch.org)|18.160.200.126|:443... connected.\n",
            "HTTP request sent, awaiting response... 200 OK\n",
            "Length: 2882130 (2.7M) [application/zip]\n",
            "Saving to: ‘data.zip.1’\n",
            "\n",
            "\rdata.zip.1            0%[                    ]       0  --.-KB/s               \rdata.zip.1          100%[===================>]   2.75M  --.-KB/s    in 0.07s   \n",
            "\n",
            "2024-04-29 17:06:23 (39.6 MB/s) - ‘data.zip.1’ saved [2882130/2882130]\n",
            "\n",
            "--2024-04-29 17:06:23--  http://./\n",
            "Resolving . (.)... failed: No address associated with hostname.\n",
            "wget: unable to resolve host address ‘.’\n",
            "FINISHED --2024-04-29 17:06:23--\n",
            "Total wall clock time: 0.1s\n",
            "Downloaded: 1 files, 2.7M in 0.07s (39.6 MB/s)\n"
          ]
        }
      ]
    },
    {
      "cell_type": "code",
      "source": [
        "!mkdir ./datasets"
      ],
      "metadata": {
        "id": "Y3pYXAJsIH2f"
      },
      "execution_count": 4,
      "outputs": []
    },
    {
      "cell_type": "code",
      "source": [
        "!unzip data.zip -d ./datasets"
      ],
      "metadata": {
        "colab": {
          "base_uri": "https://localhost:8080/"
        },
        "id": "41dCrIYfIHy4",
        "outputId": "3500e050-114f-4d8a-f2e6-0761c69fc518"
      },
      "execution_count": 5,
      "outputs": [
        {
          "output_type": "stream",
          "name": "stdout",
          "text": [
            "Archive:  data.zip\n",
            "   creating: ./datasets/data/\n",
            "  inflating: ./datasets/data/eng-fra.txt  \n",
            "   creating: ./datasets/data/names/\n",
            "  inflating: ./datasets/data/names/Arabic.txt  \n",
            "  inflating: ./datasets/data/names/Chinese.txt  \n",
            "  inflating: ./datasets/data/names/Czech.txt  \n",
            "  inflating: ./datasets/data/names/Dutch.txt  \n",
            "  inflating: ./datasets/data/names/English.txt  \n",
            "  inflating: ./datasets/data/names/French.txt  \n",
            "  inflating: ./datasets/data/names/German.txt  \n",
            "  inflating: ./datasets/data/names/Greek.txt  \n",
            "  inflating: ./datasets/data/names/Irish.txt  \n",
            "  inflating: ./datasets/data/names/Italian.txt  \n",
            "  inflating: ./datasets/data/names/Japanese.txt  \n",
            "  inflating: ./datasets/data/names/Korean.txt  \n",
            "  inflating: ./datasets/data/names/Polish.txt  \n",
            "  inflating: ./datasets/data/names/Portuguese.txt  \n",
            "  inflating: ./datasets/data/names/Russian.txt  \n",
            "  inflating: ./datasets/data/names/Scottish.txt  \n",
            "  inflating: ./datasets/data/names/Spanish.txt  \n",
            "  inflating: ./datasets/data/names/Vietnamese.txt  \n"
          ]
        }
      ]
    },
    {
      "cell_type": "markdown",
      "source": [
        "# Data preparation"
      ],
      "metadata": {
        "id": "Aeqh9RlIX_Zw"
      }
    },
    {
      "cell_type": "code",
      "source": [
        "SOS_token = 0\n",
        "EOS_token = 1"
      ],
      "metadata": {
        "id": "DOhiU-qNIHwA"
      },
      "execution_count": 6,
      "outputs": []
    },
    {
      "cell_type": "code",
      "source": [
        "data_dir = \"./datasets/data\""
      ],
      "metadata": {
        "id": "u22AbXn1UOAd"
      },
      "execution_count": 35,
      "outputs": []
    },
    {
      "cell_type": "code",
      "source": [
        "device = torch.device(\"cuda\") if torch.cuda.is_available() else torch.device(\"cpu\")"
      ],
      "metadata": {
        "id": "P0BLghaEZY3F"
      },
      "execution_count": 36,
      "outputs": []
    },
    {
      "cell_type": "code",
      "source": [
        "class Lang:\n",
        "  def __init__(self, name):\n",
        "    self.name = name\n",
        "    self.word2index = {}\n",
        "    self.word2count = {}\n",
        "    self.index2word = {0: \"SOS\", 1: \"EOS\"}\n",
        "    self.n_words = 2 # count SOS and EOS\n",
        "\n",
        "  def addSentence(self, sentence):\n",
        "    for word in sentence.split(' '):\n",
        "      self.addWord(word)\n",
        "\n",
        "  def addWord(self, word):\n",
        "    if word not in self.word2index:\n",
        "      self.word2index[word] = self.n_words\n",
        "      self.word2count[word] = 1\n",
        "      self.index2word[self.n_words] = word\n",
        "      self.n_words += 1\n",
        "    else:\n",
        "      self.word2count[word] += 1"
      ],
      "metadata": {
        "id": "l0jiQ7pvJ42y"
      },
      "execution_count": 37,
      "outputs": []
    },
    {
      "cell_type": "code",
      "source": [
        "# Turn a Unicode string to plain ASCII, thanks to\n",
        "# https://stackoverflow.com/a/518232/2809427\n",
        "def unicodeToAscii(s):\n",
        "  return ''.join(\n",
        "    c for c in unicodedata.normalize('NFD', s)\n",
        "    if unicodedata.category(c) != 'Mn'\n",
        "  )"
      ],
      "metadata": {
        "id": "81A0K42RQcAO"
      },
      "execution_count": 10,
      "outputs": []
    },
    {
      "cell_type": "code",
      "source": [
        "# Lowercase, trim, and remove non-letter characters\n",
        "def normalizeString(s):\n",
        "  s = unicodeToAscii(s.lower().strip())\n",
        "  s = re.sub(r\"([.!?])\", r\" \\1\", s)\n",
        "  s = re.sub(r\"[^a-zA-Z!?]+\", r\" \", s)\n",
        "  return s.strip()"
      ],
      "metadata": {
        "id": "c5izgjs1Qb9G"
      },
      "execution_count": 11,
      "outputs": []
    },
    {
      "cell_type": "code",
      "source": [
        "def readLangs(data_dir, lang1, lang2, reverse=False):\n",
        "  print(\"Reading lines...\")\n",
        "\n",
        "  # Read the file and split into lines\n",
        "  lines = open(f'{data_dir}/{lang1}-{lang2}.txt', encoding='utf-8').\\\n",
        "    read().strip().split('\\n')\n",
        "\n",
        "  # Split every line into pairs and normalize\n",
        "  pairs = [[normalizeString(s) for s in l.split('\\t')] for l in lines]\n",
        "\n",
        "  # Reverse pairs, make Lang instances\n",
        "  if reverse:\n",
        "    pairs = [list(reversed(p)) for p in pairs]\n",
        "    input_lang = Lang(lang2)\n",
        "    output_lang = Lang(lang1)\n",
        "  else:\n",
        "    input_lang = Lang(lang1)\n",
        "    output_lang = Lang(lang2)\n",
        "\n",
        "  return input_lang, output_lang, pairs"
      ],
      "metadata": {
        "id": "PrP1QfKwQj3m"
      },
      "execution_count": 12,
      "outputs": []
    },
    {
      "cell_type": "code",
      "source": [
        "MAX_LENGTH = 10\n",
        "\n",
        "eng_prefixes = (\n",
        "  \"i am \", \"i m \",\n",
        "  \"he is\", \"he s \",\n",
        "  \"she is\", \"she s \",\n",
        "  \"you are\", \"you re \",\n",
        "  \"we are\", \"we re \",\n",
        "  \"they are\", \"they re \"\n",
        ")"
      ],
      "metadata": {
        "id": "Ws77EzZZQj0v"
      },
      "execution_count": 13,
      "outputs": []
    },
    {
      "cell_type": "code",
      "source": [
        "def filterPair(p):\n",
        "  return len(p[0].split(' ')) < MAX_LENGTH and \\\n",
        "    len(p[1].split(' ')) < MAX_LENGTH and \\\n",
        "    p[1].startswith(eng_prefixes)"
      ],
      "metadata": {
        "id": "DDQfZtj7Qjx4"
      },
      "execution_count": 14,
      "outputs": []
    },
    {
      "cell_type": "code",
      "source": [
        "def filterPairs(pairs):\n",
        "  return [pair for pair in pairs if filterPair(pair)]"
      ],
      "metadata": {
        "id": "Qtf8vH9cJ4zy"
      },
      "execution_count": 15,
      "outputs": []
    },
    {
      "cell_type": "markdown",
      "source": [
        "Proses of preparing data:\n",
        "\n",
        "\n",
        "*   Read text file and split into lines,\n",
        "*   Split lines into pairs\n",
        "*   Normalize text, filter by length and content\n",
        "*   Make word lists from sentences in pairs\n",
        "\n",
        "\n",
        "\n"
      ],
      "metadata": {
        "id": "vHs4_OZeSeEb"
      }
    },
    {
      "cell_type": "code",
      "source": [
        "def prepareData(data_dir, lang1, lang2, reverse=False):\n",
        "  input_lang, output_lang, pairs = readLangs(data_dir, lang1, lang2, reverse)\n",
        "  print(\"Read %s sentence pairs\" % len(pairs))\n",
        "  pairs = filterPairs(pairs)\n",
        "  print(\"Trimmed to %s sentence pairs\" % len(pairs))\n",
        "  print(\"Counting words...\")\n",
        "  for pair in pairs:\n",
        "      input_lang.addSentence(pair[0])\n",
        "      output_lang.addSentence(pair[1])\n",
        "  print(\"Counted words:\")\n",
        "  print(input_lang.name, input_lang.n_words)\n",
        "  print(output_lang.name, output_lang.n_words)\n",
        "  return input_lang, output_lang, pairs"
      ],
      "metadata": {
        "id": "xGKF01qyJ4mq"
      },
      "execution_count": 38,
      "outputs": []
    },
    {
      "cell_type": "code",
      "source": [
        "input_lang, output_lang, pairs = prepareData(data_dir, 'eng', 'fra', True)\n",
        "print(random.choice(pairs))"
      ],
      "metadata": {
        "colab": {
          "base_uri": "https://localhost:8080/"
        },
        "id": "XsxN3vV3IHtH",
        "outputId": "5aa904ae-89bb-429d-aabe-db3eba34c9ff"
      },
      "execution_count": 39,
      "outputs": [
        {
          "output_type": "stream",
          "name": "stdout",
          "text": [
            "Reading lines...\n",
            "Read 135842 sentence pairs\n",
            "Trimmed to 11445 sentence pairs\n",
            "Counting words...\n",
            "Counted words:\n",
            "fra 4601\n",
            "eng 2991\n",
            "['elles parlent', 'they re talking']\n"
          ]
        }
      ]
    },
    {
      "cell_type": "markdown",
      "source": [
        "# Encoder"
      ],
      "metadata": {
        "id": "fJXrufvQXNAo"
      }
    },
    {
      "cell_type": "markdown",
      "source": [
        "Encoder outputs some value for every word from the input sentence.\n",
        "From every input word the encoder outputs a vector and a hidden state, and uses the hidden state for the next input word."
      ],
      "metadata": {
        "id": "KSkmk3vKXPKE"
      }
    },
    {
      "cell_type": "code",
      "source": [
        "class EncoderRNN(nn.Module):\n",
        "  def __init__(self, input_size, hidden_size, dropout_p=0.1):\n",
        "    super(EncoderRNN, self).__init__()\n",
        "    self.hidden_size = hidden_size\n",
        "\n",
        "    self.embedding = nn.Embedding(input_size, hidden_size)\n",
        "    self.gru = nn.GRU(hidden_size, hidden_size, batch_first=True)\n",
        "    self.dropout = nn.Dropout(dropout_p)\n",
        "\n",
        "  def forward(self, input):\n",
        "    embedded = self.dropout(self.embedding(input))\n",
        "    output, hidden = self.gru(embedded)\n",
        "    return output, hidden"
      ],
      "metadata": {
        "id": "691YqmSzTtes"
      },
      "execution_count": 18,
      "outputs": []
    },
    {
      "cell_type": "markdown",
      "source": [
        "# Decoder"
      ],
      "metadata": {
        "id": "pn1o3noZX4XP"
      }
    },
    {
      "cell_type": "markdown",
      "source": [
        "Decoder takes the encoder output vectors and outputs a sequence of words to create the translation\n",
        "\n",
        "Last output is sometimes called the context vector as it encodes context from the entire sequence. This context vector is used as the initial hidden state of the decoder.\n",
        "\n",
        "At every step of decoding, the decoder is given an input token and hidden state.\n",
        "The initial input token is the start-of-string \\<SOS> token and the first hidden state is the context vector (the encoder's last hidden state)."
      ],
      "metadata": {
        "id": "Z9GSHbRrYgqc"
      }
    },
    {
      "cell_type": "code",
      "source": [
        "class DecoderRNN(nn.Module):\n",
        "  def __init__(self, hidden_size, output_size):\n",
        "    super(DecoderRNN, self).__init__()\n",
        "    # word embedding\n",
        "    self.embedding = nn.Embedding(output_size, hidden_size)\n",
        "    # gru layer\n",
        "    self.gru = nn.GRU(hidden_size, hidden_size, batch_first=True)\n",
        "    # linear layer\n",
        "    self.out = nn.Linear(hidden_size, output_size)\n",
        "\n",
        "  def forward(self, encoder_outputs, encoder_hidden, target_tensor=None):\n",
        "    # batch_size is based on encoder_outputs\n",
        "    batch_size = encoder_outputs.size(0)\n",
        "    # tensor input decoder\n",
        "    decoder_input = torch.empty(batch_size, 1, dtype=torch.long, device=device).fill_(SOS_token)\n",
        "    # init hidden state decoder = hidden state encoder\n",
        "    decoder_hidden = encoder_hidden\n",
        "    # output predictions\n",
        "    decoder_outputs = []\n",
        "\n",
        "    for i in range(MAX_LENGTH):\n",
        "      decoder_output, decoder_hidden  = self.forward_step(decoder_input, decoder_hidden)\n",
        "      decoder_outputs.append(decoder_output)\n",
        "\n",
        "      if target_tensor is not None:\n",
        "        # Teacher forcing: Feed the target as the next input\n",
        "        decoder_input = target_tensor[:, i].unsqueeze(1) # Teacher forcing\n",
        "      else:\n",
        "        # Without teacher forcing: use its own predictions as the next input\n",
        "        _, topi = decoder_output.topk(1)\n",
        "        decoder_input = topi.squeeze(-1).detach()  # detach from history as input\n",
        "\n",
        "    decoder_outputs = torch.cat(decoder_outputs, dim=1)\n",
        "    decoder_outputs = F.log_softmax(decoder_outputs, dim=-1)\n",
        "    return decoder_outputs, decoder_hidden, None # We return `None` for consistency in the training loop\n",
        "\n",
        "  def forward_step(self, input, hidden):\n",
        "    output = self.embedding(input)\n",
        "    output = F.relu(output)\n",
        "    output, hidden = self.gru(output, hidden)\n",
        "    output = self.out(output)\n",
        "    return output, hidden"
      ],
      "metadata": {
        "id": "Kf7uWxg0XKhu"
      },
      "execution_count": 19,
      "outputs": []
    },
    {
      "cell_type": "markdown",
      "source": [
        "# Attention Decoder"
      ],
      "metadata": {
        "id": "04aP_ap1Ziyy"
      }
    },
    {
      "cell_type": "markdown",
      "source": [
        "Attention allows the decoder network to focus on a different part of the encoder's outputs for every step of the decoder's own outputs.\n",
        "\n",
        "\n",
        "1.   Calculate a set of attention weights\n",
        "2.   Multiply by the encoder output vectors to create a weighted combination\n",
        "3.   attn_applied should contain information about that specific part of the input sequence and help the decoder choose the right output words\n"
      ],
      "metadata": {
        "id": "AvdzNhaIZlg_"
      }
    },
    {
      "cell_type": "code",
      "source": [
        "class AdditiveAttention(nn.Module):\n",
        "  def __init__(self, hidden_size):\n",
        "    super(AdditiveAttention, self).__init__()\n",
        "    self.Wa = nn.Linear(hidden_size, hidden_size)\n",
        "    self.Ua = nn.Linear(hidden_size, hidden_size)\n",
        "    self.Va = nn.Linear(hidden_size, 1)\n",
        "\n",
        "  def forward(self, query, keys):\n",
        "    scores = self.Va(torch.tanh(self.Wa(query) + self.Ua(keys)))\n",
        "    scores = scores.squeeze(2).unsqueeze(1)\n",
        "\n",
        "    weights = F.softmax(scores, dim=-1)\n",
        "    context = torch.bmm(weights, keys)\n",
        "\n",
        "    return context, weights"
      ],
      "metadata": {
        "id": "B1zD5VabXKe2"
      },
      "execution_count": 40,
      "outputs": []
    },
    {
      "cell_type": "code",
      "source": [
        "class AttnDecoderRNN(nn.Module):\n",
        "  def __init__(self, hidden_size, output_size, dropout_p=0.1):\n",
        "    super(AttnDecoderRNN, self).__init__()\n",
        "    self.embedding = nn.Embedding(output_size, hidden_size)\n",
        "    self.attention = AdditiveAttention(hidden_size)\n",
        "    self.gru = nn.GRU(2 * hidden_size, hidden_size, batch_first=True)\n",
        "    self.out = nn.Linear(hidden_size, output_size)\n",
        "    self.dropout = nn.Dropout(dropout_p)\n",
        "\n",
        "  def forward(self, encoder_outputs, encoder_hidden, target_tensor=None):\n",
        "    batch_size = encoder_outputs.size(0)\n",
        "    decoder_input = torch.empty(batch_size, 1, dtype=torch.long, device=device).fill_(SOS_token)\n",
        "    decoder_hidden = encoder_hidden\n",
        "    decoder_outputs = []\n",
        "    attentions = []\n",
        "\n",
        "    for i in range(MAX_LENGTH):\n",
        "      decoder_output, decoder_hidden, attn_weights = self.forward_step(\n",
        "          decoder_input, decoder_hidden, encoder_outputs\n",
        "      )\n",
        "      decoder_outputs.append(decoder_output)\n",
        "      attentions.append(attn_weights)\n",
        "\n",
        "      if target_tensor is not None:\n",
        "        # Teacher forcing: Feed the target as the next input\n",
        "        decoder_input = target_tensor[:, i].unsqueeze(1) # Teacher forcing\n",
        "      else:\n",
        "        # Without teacher forcing: use its own predictions as the next input\n",
        "        _, topi = decoder_output.topk(1)\n",
        "        decoder_input = topi.squeeze(-1).detach()  # detach from history as input\n",
        "\n",
        "    decoder_outputs = torch.cat(decoder_outputs, dim=1)\n",
        "    decoder_outputs = F.log_softmax(decoder_outputs, dim=-1)\n",
        "    attentions = torch.cat(attentions, dim=1)\n",
        "\n",
        "    return decoder_outputs, decoder_hidden, attentions\n",
        "\n",
        "  def forward_step(self, input, hidden, encoder_outputs):\n",
        "    embedded =  self.dropout(self.embedding(input))\n",
        "\n",
        "    query = hidden.permute(1, 0, 2)\n",
        "    context, attn_weights = self.attention(query, encoder_outputs)\n",
        "    input_gru = torch.cat((embedded, context), dim=2)\n",
        "\n",
        "    output, hidden = self.gru(input_gru, hidden)\n",
        "    output = self.out(output)\n",
        "\n",
        "    return output, hidden, attn_weights"
      ],
      "metadata": {
        "id": "0mfmrPMXXKcA"
      },
      "execution_count": 41,
      "outputs": []
    },
    {
      "cell_type": "markdown",
      "source": [
        "# Training data"
      ],
      "metadata": {
        "id": "xzkFO2yJ0-uE"
      }
    },
    {
      "cell_type": "code",
      "source": [
        "def indexesFromSentence(lang, sentence):\n",
        "  return [lang.word2index[word] for word in sentence.split(' ')]"
      ],
      "metadata": {
        "id": "uVN3ZUvtXKY7"
      },
      "execution_count": 42,
      "outputs": []
    },
    {
      "cell_type": "code",
      "source": [
        "def tensorFromSentence(lang, sentence):\n",
        "  indexes = indexesFromSentence(lang, sentence)\n",
        "  indexes.append(EOS_token)\n",
        "  return torch.tensor(indexes, dtype=torch.long, device=device).view(1, -1)"
      ],
      "metadata": {
        "id": "2Wj18ieXTtbU"
      },
      "execution_count": 43,
      "outputs": []
    },
    {
      "cell_type": "code",
      "source": [
        "def tensorsFromPair(pair):\n",
        "  input_tensor = tensorFromSentence(input_lang, pair[0])\n",
        "  target_tensor = tensorFromSentence(output_lang, pair[1])\n",
        "  return (input_tensor, target_tensor)"
      ],
      "metadata": {
        "id": "KAAztCQj1Wmu"
      },
      "execution_count": 44,
      "outputs": []
    },
    {
      "cell_type": "code",
      "source": [
        "def get_dataloader(batch_size):\n",
        "  input_lang, output_lang, pairs = prepareData(data_dir, 'eng', 'fra', True)\n",
        "\n",
        "  n = len(pairs)\n",
        "  input_ids = np.zeros((n, MAX_LENGTH), dtype=np.int32)\n",
        "  target_ids = np.zeros((n, MAX_LENGTH), dtype=np.int32)\n",
        "\n",
        "  for idx, (inp, tgt) in enumerate(pairs):\n",
        "    inp_ids = indexesFromSentence(input_lang, inp)\n",
        "    tgt_ids = indexesFromSentence(output_lang, tgt)\n",
        "    inp_ids.append(EOS_token)\n",
        "    tgt_ids.append(EOS_token)\n",
        "    input_ids[idx, :len(inp_ids)] = inp_ids\n",
        "    target_ids[idx, :len(tgt_ids)] = tgt_ids\n",
        "\n",
        "  train_data = TensorDataset(torch.LongTensor(input_ids).to(device),\n",
        "                            torch.LongTensor(target_ids).to(device))\n",
        "\n",
        "  train_sampler = RandomSampler(train_data)\n",
        "  train_dataloader = DataLoader(train_data, sampler=train_sampler, batch_size=batch_size)\n",
        "  return input_lang, output_lang, train_dataloader"
      ],
      "metadata": {
        "id": "hNtLorZW1WcS"
      },
      "execution_count": 48,
      "outputs": []
    },
    {
      "cell_type": "code",
      "source": [
        "def train_epoch(dataloader, encoder, decoder, encoder_optimizer,\n",
        "                decoder_optimizer, criterion):\n",
        "\n",
        "  total_loss = 0\n",
        "  for data in dataloader:\n",
        "    input_tensor, target_tensor = data\n",
        "\n",
        "    encoder_optimizer.zero_grad()\n",
        "    decoder_optimizer.zero_grad()\n",
        "\n",
        "    encoder_outputs, encoder_hidden = encoder(input_tensor)\n",
        "    decoder_outputs, _, _ = decoder(encoder_outputs, encoder_hidden, target_tensor)\n",
        "\n",
        "    loss = criterion(\n",
        "        decoder_outputs.view(-1, decoder_outputs.size(-1)),\n",
        "        target_tensor.view(-1)\n",
        "    )\n",
        "    loss.backward()\n",
        "\n",
        "    encoder_optimizer.step()\n",
        "    decoder_optimizer.step()\n",
        "\n",
        "    total_loss += loss.item()\n",
        "\n",
        "  return total_loss / len(dataloader)"
      ],
      "metadata": {
        "id": "D4SG2ta0TtX4"
      },
      "execution_count": 49,
      "outputs": []
    },
    {
      "cell_type": "code",
      "source": [
        "def asMinutes(s):\n",
        "  m = math.floor(s / 60)\n",
        "  s -= m * 60\n",
        "  return '%dm %ds' % (m, s)"
      ],
      "metadata": {
        "id": "BaI43xC61am-"
      },
      "execution_count": 50,
      "outputs": []
    },
    {
      "cell_type": "code",
      "source": [
        "def timeSince(since, percent):\n",
        "  now = time.time()\n",
        "  s = now - since\n",
        "  es = s / (percent)\n",
        "  rs = es - s\n",
        "  return '%s (- %s)' % (asMinutes(s), asMinutes(rs))"
      ],
      "metadata": {
        "id": "SZ9dkraP1ajU"
      },
      "execution_count": 51,
      "outputs": []
    },
    {
      "cell_type": "code",
      "source": [
        "def showPlot(points):\n",
        "  plt.figure()\n",
        "  fig, ax = plt.subplots()\n",
        "  # this locator puts ticks at regular intervals\n",
        "  loc = ticker.MultipleLocator(base=0.2)\n",
        "  ax.yaxis.set_major_locator(loc)\n",
        "  plt.plot(points)"
      ],
      "metadata": {
        "id": "-Rl7qTtx1afs"
      },
      "execution_count": 52,
      "outputs": []
    },
    {
      "cell_type": "code",
      "source": [
        "def train(train_dataloader, encoder, decoder, n_epochs, learning_rate=0.001,\n",
        "          print_every=100, plot_every=100):\n",
        "  start = time.time()\n",
        "  plot_losses = []\n",
        "  print_loss_total = 0  # Reset every print_every\n",
        "  plot_loss_total = 0  # Reset every plot_every\n",
        "\n",
        "  encoder_optimizer = optim.Adam(encoder.parameters(), lr=learning_rate)\n",
        "  decoder_optimizer = optim.Adam(decoder.parameters(), lr=learning_rate)\n",
        "  criterion = nn.NLLLoss()\n",
        "\n",
        "  for epoch in range(1, n_epochs + 1):\n",
        "    loss = train_epoch(train_dataloader, encoder, decoder, encoder_optimizer, decoder_optimizer, criterion)\n",
        "    print_loss_total += loss\n",
        "    plot_loss_total += loss\n",
        "\n",
        "    if epoch % print_every == 0:\n",
        "      print_loss_avg = print_loss_total / print_every\n",
        "      print_loss_total = 0\n",
        "      print('%s (%d %d%%) %.4f' % (timeSince(start, epoch / n_epochs),\n",
        "                                  epoch, epoch / n_epochs * 100, print_loss_avg))\n",
        "\n",
        "    if epoch % plot_every == 0:\n",
        "      plot_loss_avg = plot_loss_total / plot_every\n",
        "      plot_losses.append(plot_loss_avg)\n",
        "      plot_loss_total = 0\n",
        "\n",
        "  showPlot(plot_losses)"
      ],
      "metadata": {
        "id": "cCyIfcVR3XiV"
      },
      "execution_count": 53,
      "outputs": []
    },
    {
      "cell_type": "code",
      "source": [
        "def evaluate(encoder, decoder, sentence, input_lang, output_lang):\n",
        "  with torch.no_grad():\n",
        "    input_tensor = tensorFromSentence(input_lang, sentence)\n",
        "\n",
        "    encoder_outputs, encoder_hidden = encoder(input_tensor)\n",
        "    decoder_outputs, decoder_hidden, decoder_attn = decoder(encoder_outputs, encoder_hidden)\n",
        "\n",
        "    _, topi = decoder_outputs.topk(1)\n",
        "    decoded_ids = topi.squeeze()\n",
        "\n",
        "    decoded_words = []\n",
        "    for idx in decoded_ids:\n",
        "      if idx.item() == EOS_token:\n",
        "        decoded_words.append('<EOS>')\n",
        "        break\n",
        "      decoded_words.append(output_lang.index2word[idx.item()])\n",
        "  return decoded_words, decoder_attn"
      ],
      "metadata": {
        "id": "FIygCKSe3Xah"
      },
      "execution_count": 54,
      "outputs": []
    },
    {
      "cell_type": "code",
      "source": [
        "def evaluateRandomly(encoder, decoder, n=10):\n",
        "  for i in range(n):\n",
        "    pair = random.choice(pairs)\n",
        "    print('>', pair[0])\n",
        "    print('=', pair[1])\n",
        "    output_words, _ = evaluate(encoder, decoder, pair[0], input_lang, output_lang)\n",
        "    output_sentence = ' '.join(output_words)\n",
        "    print('<', output_sentence)\n",
        "    print('')"
      ],
      "metadata": {
        "id": "nwZRKW2w3XUz"
      },
      "execution_count": 55,
      "outputs": []
    },
    {
      "cell_type": "code",
      "source": [
        "hidden_size = 128\n",
        "batch_size = 32\n",
        "\n",
        "input_lang, output_lang, train_dataloader = get_dataloader(batch_size)\n",
        "\n",
        "encoder = EncoderRNN(input_lang.n_words, hidden_size).to(device)\n",
        "decoder = AttnDecoderRNN(hidden_size, output_lang.n_words).to(device)\n",
        "\n",
        "train(train_dataloader, encoder, decoder, 80, print_every=5, plot_every=5)"
      ],
      "metadata": {
        "colab": {
          "base_uri": "https://localhost:8080/",
          "height": 860
        },
        "id": "1jdZXA5K5oHO",
        "outputId": "0a6a2f7f-cbad-4455-ae4a-ad53f700e360"
      },
      "execution_count": 56,
      "outputs": [
        {
          "output_type": "stream",
          "name": "stdout",
          "text": [
            "Reading lines...\n",
            "Read 135842 sentence pairs\n",
            "Trimmed to 11445 sentence pairs\n",
            "Counting words...\n",
            "Counted words:\n",
            "fra 4601\n",
            "eng 2991\n",
            "0m 40s (- 10m 6s) (5 6%) 1.5445\n",
            "1m 17s (- 9m 5s) (10 12%) 0.6917\n",
            "1m 54s (- 8m 14s) (15 18%) 0.3602\n",
            "2m 29s (- 7m 28s) (20 25%) 0.2010\n",
            "3m 4s (- 6m 46s) (25 31%) 0.1251\n",
            "3m 40s (- 6m 8s) (30 37%) 0.0870\n",
            "4m 16s (- 5m 29s) (35 43%) 0.0664\n",
            "4m 52s (- 4m 52s) (40 50%) 0.0538\n",
            "5m 27s (- 4m 15s) (45 56%) 0.0468\n",
            "6m 3s (- 3m 37s) (50 62%) 0.0416\n",
            "6m 38s (- 3m 0s) (55 68%) 0.0380\n",
            "7m 13s (- 2m 24s) (60 75%) 0.0351\n",
            "7m 48s (- 1m 48s) (65 81%) 0.0334\n",
            "8m 23s (- 1m 11s) (70 87%) 0.0322\n",
            "8m 58s (- 0m 35s) (75 93%) 0.0306\n",
            "9m 33s (- 0m 0s) (80 100%) 0.0299\n"
          ]
        },
        {
          "output_type": "display_data",
          "data": {
            "text/plain": [
              "<Figure size 640x480 with 0 Axes>"
            ]
          },
          "metadata": {}
        },
        {
          "output_type": "display_data",
          "data": {
            "text/plain": [
              "<Figure size 640x480 with 1 Axes>"
            ],
            "image/png": "[encoded data removed]"
          },
          "metadata": {}
        }
      ]
    },
    {
      "cell_type": "code",
      "source": [
        "encoder.eval()\n",
        "decoder.eval()\n",
        "evaluateRandomly(encoder, decoder)"
      ],
      "metadata": {
        "colab": {
          "base_uri": "https://localhost:8080/"
        },
        "id": "dCd8yx6x5oDn",
        "outputId": "736468c8-9fe5-4f79-ab03-586b0087c57c"
      },
      "execution_count": 57,
      "outputs": [
        {
          "output_type": "stream",
          "name": "stdout",
          "text": [
            "> tu as tort\n",
            "= you are wrong\n",
            "< you are wrong <EOS>\n",
            "\n",
            "> c est un membre estime\n",
            "= he is a member in good standing\n",
            "< he is a member in good standing <EOS>\n",
            "\n",
            "> vous etes tres emotive\n",
            "= you re very emotional\n",
            "< you re very emotional <EOS>\n",
            "\n",
            "> je ne suis certainement pas votre ami\n",
            "= i m certainly not your friend\n",
            "< i m certainly not your friend <EOS>\n",
            "\n",
            "> il est tout sauf un gentleman\n",
            "= he is anything but a gentleman\n",
            "< he is anything but a gentleman <EOS>\n",
            "\n",
            "> vous n etes pas les seuls avec ce probleme\n",
            "= you re not the only one with this problem\n",
            "< you re not the only one with this problem <EOS>\n",
            "\n",
            "> je ne la vendrai pas\n",
            "= i m not going to sell it\n",
            "< i m not going to sell it <EOS>\n",
            "\n",
            "> il est a son bureau\n",
            "= he is at his office\n",
            "< he is at his office worker <EOS>\n",
            "\n",
            "> je suis les lignes directrices\n",
            "= i m following the guidelines\n",
            "< i m the best student <EOS>\n",
            "\n",
            "> j en ai marre de perdre\n",
            "= i m tired of losing\n",
            "< i m tired of losing <EOS>\n",
            "\n"
          ]
        }
      ]
    },
    {
      "cell_type": "code",
      "source": [
        "def showAttention(input_sentence, output_words, attentions):\n",
        "  fig = plt.figure()\n",
        "  ax = fig.add_subplot(111)\n",
        "  cax = ax.matshow(attentions.cpu().numpy(), cmap='bone')\n",
        "  fig.colorbar(cax)\n",
        "\n",
        "  # Set up axes\n",
        "  ax.set_xticklabels([''] + input_sentence.split(' ') +\n",
        "                     ['<EOS>'], rotation=90)\n",
        "  ax.set_yticklabels([''] + output_words)\n",
        "\n",
        "  # Show label at every tick\n",
        "  ax.xaxis.set_major_locator(ticker.MultipleLocator(1))\n",
        "  ax.yaxis.set_major_locator(ticker.MultipleLocator(1))\n",
        "\n",
        "  plt.show()"
      ],
      "metadata": {
        "id": "sc4X2KkZ5oAf"
      },
      "execution_count": 58,
      "outputs": []
    },
    {
      "cell_type": "code",
      "source": [
        "def evaluateAndShowAttention(input_sentence):\n",
        "  output_words, attentions = evaluate(encoder, decoder, input_sentence, input_lang, output_lang)\n",
        "  print('input =', input_sentence)\n",
        "  print('output =', ' '.join(output_words))\n",
        "  showAttention(input_sentence, output_words, attentions[0, :len(output_words), :])"
      ],
      "metadata": {
        "id": "m0GV-C3q3XQG"
      },
      "execution_count": 59,
      "outputs": []
    },
    {
      "cell_type": "code",
      "source": [
        "evaluateAndShowAttention('vous etes tres emotive')\n",
        "\n",
        "evaluateAndShowAttention('je ne suis certainement pas votre ami')\n",
        "\n",
        "evaluateAndShowAttention('il est tout sauf un gentleman')\n",
        "\n",
        "# evaluateAndShowAttention('je suis reellement fiere de vous')"
      ],
      "metadata": {
        "id": "rehEfD-FIHp_",
        "colab": {
          "base_uri": "https://localhost:8080/",
          "height": 1000
        },
        "outputId": "c872f2ee-55ee-47f1-f5ec-e36293ad56fe"
      },
      "execution_count": 61,
      "outputs": [
        {
          "output_type": "stream",
          "name": "stdout",
          "text": [
            "input = vous etes tres emotive\n",
            "output = you re very emotional <EOS>\n"
          ]
        },
        {
          "output_type": "stream",
          "name": "stderr",
          "text": [
            "<ipython-input-58-d6c5084dbf5c>:8: UserWarning: FixedFormatter should only be used together with FixedLocator\n",
            "  ax.set_xticklabels([''] + input_sentence.split(' ') +\n",
            "<ipython-input-58-d6c5084dbf5c>:10: UserWarning: FixedFormatter should only be used together with FixedLocator\n",
            "  ax.set_yticklabels([''] + output_words)\n"
          ]
        },
        {
          "output_type": "display_data",
          "data": {
            "text/plain": [
              "<Figure size 640x480 with 2 Axes>"
            ],
            "image/png": "[encoded data removed]"
          },
          "metadata": {}
        },
        {
          "output_type": "stream",
          "name": "stdout",
          "text": [
            "input = je ne suis certainement pas votre ami\n",
            "output = i m certainly not your friend <EOS>\n"
          ]
        },
        {
          "output_type": "display_data",
          "data": {
            "text/plain": [
              "<Figure size 640x480 with 2 Axes>"
            ],
            "image/png": "[encoded data removed]"
          },
          "metadata": {}
        },
        {
          "output_type": "stream",
          "name": "stdout",
          "text": [
            "input = il est tout sauf un gentleman\n",
            "output = he is anything but a gentleman <EOS>\n"
          ]
        },
        {
          "output_type": "display_data",
          "data": {
            "text/plain": [
              "<Figure size 640x480 with 2 Axes>"
            ],
            "image/png": "[encoded data removed]"
          },
          "metadata": {}
        }
      ]
    },
    {
      "cell_type": "code",
      "source": [],
      "metadata": {
        "id": "JmSCrfdL-TIh"
      },
      "execution_count": null,
      "outputs": []
    },
    {
      "cell_type": "code",
      "source": [],
      "metadata": {
        "id": "21ZzMnlU-TEZ"
      },
      "execution_count": null,
      "outputs": []
    },
    {
      "cell_type": "code",
      "source": [],
      "metadata": {
        "id": "yaJ_Sxg8AHSm"
      },
      "execution_count": null,
      "outputs": []
    },
    {
      "cell_type": "code",
      "source": [],
      "metadata": {
        "id": "tH8_P7qAAHN-"
      },
      "execution_count": null,
      "outputs": []
    }
  ]
}