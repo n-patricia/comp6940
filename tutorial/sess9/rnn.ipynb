{
  "nbformat": 4,
  "nbformat_minor": 0,
  "metadata": {
    "colab": {
      "provenance": [],
      "gpuType": "T4"
    },
    "kernelspec": {
      "name": "python3",
      "display_name": "Python 3"
    },
    "language_info": {
      "name": "python"
    },
    "accelerator": "GPU"
  },
  "cells": [
    {
      "cell_type": "code",
      "execution_count": null,
      "metadata": {
        "id": "HclrfiXR6x0R"
      },
      "outputs": [],
      "source": [
        "from io import open\n",
        "import glob\n",
        "import os\n",
        "import unicodedata\n",
        "import string\n",
        "import random\n",
        "import time\n",
        "import math\n",
        "import matplotlib.pyplot as plt"
      ]
    },
    {
      "cell_type": "code",
      "source": [
        "import torch\n",
        "import torch.nn as nn"
      ],
      "metadata": {
        "id": "xMutOc4pBNlM"
      },
      "execution_count": null,
      "outputs": []
    },
    {
      "cell_type": "code",
      "source": [
        "!mkdir ./datasets"
      ],
      "metadata": {
        "id": "5GVBNEwBl02U"
      },
      "execution_count": null,
      "outputs": []
    },
    {
      "cell_type": "code",
      "source": [
        "!wget https://download.pytorch.org/tutorial/data.zip -P ./datasets/"
      ],
      "metadata": {
        "colab": {
          "base_uri": "https://localhost:8080/"
        },
        "id": "ZNjxgoWOluNx",
        "outputId": "89e65fd8-1e7d-4f22-8592-2c8020810df2"
      },
      "execution_count": null,
      "outputs": [
        {
          "output_type": "stream",
          "name": "stdout",
          "text": [
            "--2024-04-29 11:22:24--  https://download.pytorch.org/tutorial/data.zip\n",
            "Resolving download.pytorch.org (download.pytorch.org)... 13.224.14.44, 13.224.14.120, 13.224.14.23, ...\n",
            "Connecting to download.pytorch.org (download.pytorch.org)|13.224.14.44|:443... connected.\n",
            "HTTP request sent, awaiting response... 200 OK\n",
            "Length: 2882130 (2.7M) [application/zip]\n",
            "Saving to: ‘./datasets/data.zip’\n",
            "\n",
            "\rdata.zip              0%[                    ]       0  --.-KB/s               \rdata.zip            100%[===================>]   2.75M  --.-KB/s    in 0.05s   \n",
            "\n",
            "2024-04-29 11:22:24 (52.7 MB/s) - ‘./datasets/data.zip’ saved [2882130/2882130]\n",
            "\n"
          ]
        }
      ]
    },
    {
      "cell_type": "code",
      "source": [
        "!unzip ./datasets/data.zip -d ./datasets/"
      ],
      "metadata": {
        "colab": {
          "base_uri": "https://localhost:8080/"
        },
        "id": "QvhLouopl5mY",
        "outputId": "1a4848ea-e2ac-4fc3-d101-067b68dd6c09"
      },
      "execution_count": null,
      "outputs": [
        {
          "output_type": "stream",
          "name": "stdout",
          "text": [
            "Archive:  ./datasets/data.zip\n",
            "   creating: ./datasets/data/\n",
            "  inflating: ./datasets/data/eng-fra.txt  \n",
            "   creating: ./datasets/data/names/\n",
            "  inflating: ./datasets/data/names/Arabic.txt  \n",
            "  inflating: ./datasets/data/names/Chinese.txt  \n",
            "  inflating: ./datasets/data/names/Czech.txt  \n",
            "  inflating: ./datasets/data/names/Dutch.txt  \n",
            "  inflating: ./datasets/data/names/English.txt  \n",
            "  inflating: ./datasets/data/names/French.txt  \n",
            "  inflating: ./datasets/data/names/German.txt  \n",
            "  inflating: ./datasets/data/names/Greek.txt  \n",
            "  inflating: ./datasets/data/names/Irish.txt  \n",
            "  inflating: ./datasets/data/names/Italian.txt  \n",
            "  inflating: ./datasets/data/names/Japanese.txt  \n",
            "  inflating: ./datasets/data/names/Korean.txt  \n",
            "  inflating: ./datasets/data/names/Polish.txt  \n",
            "  inflating: ./datasets/data/names/Portuguese.txt  \n",
            "  inflating: ./datasets/data/names/Russian.txt  \n",
            "  inflating: ./datasets/data/names/Scottish.txt  \n",
            "  inflating: ./datasets/data/names/Spanish.txt  \n",
            "  inflating: ./datasets/data/names/Vietnamese.txt  \n"
          ]
        }
      ]
    },
    {
      "cell_type": "code",
      "source": [
        "all_letters = string.ascii_letters + \" .,;'-\"\n",
        "n_letters = len(all_letters) + 1 # Plus EOS marker"
      ],
      "metadata": {
        "id": "MDjb9L0c7U1O"
      },
      "execution_count": null,
      "outputs": []
    },
    {
      "cell_type": "code",
      "source": [
        "# Turn a Unicode string to plain ASCII,\n",
        "# thanks to https://stackoverflow.com/a/518232/2809427\n",
        "def unicodeToAscii(s):\n",
        "    return ''.join(\n",
        "        c for c in unicodedata.normalize('NFD', s)\n",
        "        if unicodedata.category(c) != 'Mn'\n",
        "        and c in all_letters\n",
        "    )"
      ],
      "metadata": {
        "id": "1FY91bhT7UxG"
      },
      "execution_count": null,
      "outputs": []
    },
    {
      "cell_type": "code",
      "source": [
        "# Read a file and split into lines\n",
        "def readLines(filename):\n",
        "    with open(filename, encoding='utf-8') as some_file:\n",
        "        return [unicodeToAscii(line.strip()) for line in some_file]"
      ],
      "metadata": {
        "id": "RP-hHdAu7Utn"
      },
      "execution_count": null,
      "outputs": []
    },
    {
      "cell_type": "code",
      "source": [
        "def findFiles(path): return glob.glob(path)"
      ],
      "metadata": {
        "id": "-FbfLdzmm1PM"
      },
      "execution_count": null,
      "outputs": []
    },
    {
      "cell_type": "code",
      "source": [
        "# Build the category_lines dictionary, a list of lines per category\n",
        "category_lines = {}\n",
        "all_categories = []\n",
        "for filename in findFiles('./datasets/data/names/*.txt'):\n",
        "    category = os.path.splitext(os.path.basename(filename))[0]\n",
        "    all_categories.append(category)\n",
        "    lines = readLines(filename)\n",
        "    category_lines[category] = lines"
      ],
      "metadata": {
        "id": "SKgAol3l9Tyf"
      },
      "execution_count": null,
      "outputs": []
    },
    {
      "cell_type": "code",
      "source": [
        "n_categories = len(all_categories)"
      ],
      "metadata": {
        "id": "AHBrGfnx9TvS"
      },
      "execution_count": null,
      "outputs": []
    },
    {
      "cell_type": "code",
      "source": [
        "if n_categories == 0:\n",
        "    raise RuntimeError('Data not found. Make sure that you downloaded data '\n",
        "        'from https://download.pytorch.org/tutorial/data.zip and extract it to '\n",
        "        'the current directory.')"
      ],
      "metadata": {
        "id": "PcmuuYfP_eQ2"
      },
      "execution_count": null,
      "outputs": []
    },
    {
      "cell_type": "code",
      "source": [
        "# category tensor is a one-hot vector, like letter input\n",
        "print('# categories:', n_categories, all_categories)\n",
        "print(unicodeToAscii(\"O'Néàl\"))"
      ],
      "metadata": {
        "colab": {
          "base_uri": "https://localhost:8080/"
        },
        "id": "uyOey-JX_eUB",
        "outputId": "0920cccd-4ad8-420a-9e24-f8f002c35da2"
      },
      "execution_count": null,
      "outputs": [
        {
          "output_type": "stream",
          "name": "stdout",
          "text": [
            "# categories: 18 ['Spanish', 'Greek', 'Chinese', 'Irish', 'French', 'Russian', 'Czech', 'Japanese', 'Vietnamese', 'English', 'Italian', 'Dutch', 'Korean', 'Arabic', 'German', 'Scottish', 'Portuguese', 'Polish']\n",
            "O'Neal\n"
          ]
        }
      ]
    },
    {
      "cell_type": "code",
      "source": [
        "class RNN(nn.Module):\n",
        "  def __init__(self, input_size, hidden_size, output_size):\n",
        "    super(RNN, self).__init__()\n",
        "    self.hidden_size = hidden_size\n",
        "\n",
        "    # input_combined to hidden\n",
        "    self.i2h = nn.Linear(n_categories + input_size + hidden_size, hidden_size)\n",
        "    # input_combined to output\n",
        "    self.i2o = nn.Linear(n_categories + input_size + hidden_size, output_size)\n",
        "    # output_combined to output\n",
        "    self.o2o = nn.Linear(hidden_size + output_size, output_size)\n",
        "    # dropout randomly zero parts of its input with probability 0.1\n",
        "    self.dropout = nn.Dropout(0.1)\n",
        "    self.softmax = nn.LogSoftmax(dim=1)\n",
        "\n",
        "  def forward(self, category, input, hidden):\n",
        "    # input_combined = [category, input, hidden]\n",
        "    input_combined = torch.cat((category, input, hidden), 1)\n",
        "    # input to hidden\n",
        "    hidden = self.i2h(input_combined)\n",
        "    # input to output\n",
        "    output = self.i2o(input_combined)\n",
        "    # output_combined = [hidden, output]\n",
        "    output_combined = torch.cat((hidden, output), 1)\n",
        "    # output_combined to output\n",
        "    output = self.o2o(output_combined)\n",
        "    # dropout some parts of the output\n",
        "    output = self.dropout(output)\n",
        "    output = self.softmax(output)\n",
        "    return output, hidden\n",
        "\n",
        "  def initHidden(self):\n",
        "      return torch.zeros(1, self.hidden_size)"
      ],
      "metadata": {
        "id": "PAXkWS8sOm51"
      },
      "execution_count": null,
      "outputs": []
    },
    {
      "cell_type": "markdown",
      "source": [
        "# Data preparation"
      ],
      "metadata": {
        "id": "PQCRGEKTu6-O"
      }
    },
    {
      "cell_type": "markdown",
      "source": [
        "For each timestep:\n",
        "*   the inputs of the network will be (category, current letter, hidden state)\n",
        "*   the outputs will be (next letter, next hidden state)\n",
        "\n",
        "For each training set requires:\n",
        "\n",
        "\n",
        "*   the category\n",
        "*   a set of input letters\n",
        "\n",
        "*   a set of output/target letters\n",
        "\n",
        "Since we are predicting the next letter from the current letter for each timestep, the letter pairs are groups of consecutive letters from the line.\n",
        "\n",
        "example: \"ABCD\\<EOS>\"\n",
        "(\"A\",\"B\"), (\"B\", \"C\"), (\"C\", \"D\"), (\"D\", \"EOS\")\n",
        "\n",
        "\n",
        "\n"
      ],
      "metadata": {
        "id": "bcQa9sjevHFA"
      }
    },
    {
      "cell_type": "markdown",
      "source": [
        "Category tensor is a one-hot tensor of size <1 x n_categories>\n",
        "\n"
      ],
      "metadata": {
        "id": "Cbgsu6DIwNIC"
      }
    },
    {
      "cell_type": "code",
      "source": [
        "# Random item from a list\n",
        "def randomChoice(l):\n",
        "    return l[random.randint(0, len(l) - 1)]"
      ],
      "metadata": {
        "id": "T7vb5oK1VNgy"
      },
      "execution_count": null,
      "outputs": []
    },
    {
      "cell_type": "code",
      "source": [
        "# Get a random category and random line from that category\n",
        "def randomTrainingPair():\n",
        "    category = randomChoice(all_categories)\n",
        "    line = randomChoice(category_lines[category])\n",
        "    return category, line"
      ],
      "metadata": {
        "id": "5iGnbGt9u3cA"
      },
      "execution_count": null,
      "outputs": []
    },
    {
      "cell_type": "code",
      "source": [
        "# One-hot vector for category\n",
        "def categoryTensor(category):\n",
        "    li = all_categories.index(category)\n",
        "    tensor = torch.zeros(1, n_categories)\n",
        "    tensor[0][li] = 1\n",
        "    return tensor"
      ],
      "metadata": {
        "id": "9m5E_OCHw1p2"
      },
      "execution_count": null,
      "outputs": []
    },
    {
      "cell_type": "code",
      "source": [
        "# One-hot matrix of first to last letters (not including EOS) for input\n",
        "def inputTensor(line):\n",
        "    tensor = torch.zeros(len(line), 1, n_letters)\n",
        "    for li in range(len(line)):\n",
        "        letter = line[li]\n",
        "        tensor[li][0][all_letters.find(letter)] = 1\n",
        "    return tensor"
      ],
      "metadata": {
        "id": "2qLKMXCGw26N"
      },
      "execution_count": null,
      "outputs": []
    },
    {
      "cell_type": "code",
      "source": [
        "# ``LongTensor`` of second letter to end (EOS) for target\n",
        "def targetTensor(line):\n",
        "    letter_indexes = [all_letters.find(line[li]) for li in range(1, len(line))]\n",
        "    letter_indexes.append(n_letters - 1) # EOS\n",
        "    return torch.LongTensor(letter_indexes)"
      ],
      "metadata": {
        "id": "tLfZ_Vixu6Tz"
      },
      "execution_count": null,
      "outputs": []
    },
    {
      "cell_type": "code",
      "source": [
        "# Make category, input, and target tensors from a random category, line pair\n",
        "def randomTrainingExample():\n",
        "    category, line = randomTrainingPair()\n",
        "    category_tensor = categoryTensor(category)\n",
        "    input_line_tensor = inputTensor(line)\n",
        "    target_line_tensor = targetTensor(line)\n",
        "    return category_tensor, input_line_tensor, target_line_tensor"
      ],
      "metadata": {
        "id": "YUBNDhwTu6QZ"
      },
      "execution_count": null,
      "outputs": []
    },
    {
      "cell_type": "markdown",
      "source": [
        "# Training"
      ],
      "metadata": {
        "id": "NFs2C8cNw_Hu"
      }
    },
    {
      "cell_type": "markdown",
      "source": [
        "RNN is making a prediction at every step, so it needs to calculate the loss at every step"
      ],
      "metadata": {
        "id": "44SU_tCUxGtb"
      }
    },
    {
      "cell_type": "code",
      "source": [
        "# rnn model\n",
        "rnn = RNN(n_letters, 128, n_letters)\n",
        "print(rnn)"
      ],
      "metadata": {
        "colab": {
          "base_uri": "https://localhost:8080/"
        },
        "id": "zbF3bdbTxb6M",
        "outputId": "2d40fa29-e676-4f03-bb86-af57b3c9ce8e"
      },
      "execution_count": null,
      "outputs": [
        {
          "output_type": "stream",
          "name": "stdout",
          "text": [
            "RNN(\n",
            "  (i2h): Linear(in_features=205, out_features=128, bias=True)\n",
            "  (i2o): Linear(in_features=205, out_features=59, bias=True)\n",
            "  (o2o): Linear(in_features=187, out_features=59, bias=True)\n",
            "  (dropout): Dropout(p=0.1, inplace=False)\n",
            "  (softmax): LogSoftmax(dim=1)\n",
            ")\n"
          ]
        }
      ]
    },
    {
      "cell_type": "code",
      "source": [
        "# loss function\n",
        "criterion = nn.NLLLoss()\n",
        "# init learning rate\n",
        "learning_rate = 0.0005\n",
        "\n",
        "def train(category_tensor, input_line_tensor, target_line_tensor):\n",
        "  # one new dim as last\n",
        "  target_line_tensor.unsqueeze_(-1)\n",
        "  # init hidden\n",
        "  hidden = rnn.initHidden()\n",
        "  # zero the parameter gradients\n",
        "  rnn.zero_grad()\n",
        "  # init loss = 0\n",
        "  loss = torch.Tensor([0])\n",
        "\n",
        "  for i in range(input_line_tensor.size(0)):\n",
        "    # rnn takes category, input letter, output letter\n",
        "    output, hidden = rnn(category_tensor, input_line_tensor[i], hidden)\n",
        "    # loss between prediction and target\n",
        "    l = criterion(output, target_line_tensor[i])\n",
        "    loss += l\n",
        "\n",
        "  # backpropagation\n",
        "  loss.backward()\n",
        "\n",
        "  for p in rnn.parameters():\n",
        "    p.data.add_(p.grad.data, alpha=-learning_rate)\n",
        "\n",
        "  return output, loss.item() / input_line_tensor.size(0)"
      ],
      "metadata": {
        "id": "Yys2Kj5bPhnU"
      },
      "execution_count": null,
      "outputs": []
    },
    {
      "cell_type": "code",
      "source": [
        "def timeSince(since):\n",
        "    now = time.time()\n",
        "    s = now - since\n",
        "    m = math.floor(s / 60)\n",
        "    s -= m * 60\n",
        "    return '%dm %ds' % (m, s)"
      ],
      "metadata": {
        "id": "xdFzdPIbPhj9"
      },
      "execution_count": null,
      "outputs": []
    },
    {
      "cell_type": "code",
      "source": [
        "# init params\n",
        "n_iters = 100000\n",
        "print_every = 5000\n",
        "plot_every = 500\n",
        "all_losses = []\n",
        "total_loss = 0 # Reset every ``plot_every`` ``iters``"
      ],
      "metadata": {
        "id": "-cK4r7kPPhdr"
      },
      "execution_count": null,
      "outputs": []
    },
    {
      "cell_type": "code",
      "source": [
        "start = time.time() # start training time"
      ],
      "metadata": {
        "id": "YVWsyQ8F0ygR"
      },
      "execution_count": null,
      "outputs": []
    },
    {
      "cell_type": "code",
      "source": [
        "for iter in range(1, n_iters + 1):\n",
        "  # training\n",
        "  output, loss = train(*randomTrainingExample())\n",
        "  # compute loss\n",
        "  total_loss += loss\n",
        "  # print loss\n",
        "  if iter % print_every == 0:\n",
        "      print('%s (%d %d%%) %.4f' % (timeSince(start), iter, iter / n_iters * 100, loss))\n",
        "  # store average loss\n",
        "  if iter % plot_every == 0:\n",
        "      all_losses.append(total_loss / plot_every)\n",
        "      total_loss = 0"
      ],
      "metadata": {
        "colab": {
          "base_uri": "https://localhost:8080/"
        },
        "id": "CdFJKwA20ybW",
        "outputId": "4378b7ae-8524-4c70-9cde-d40df83fb642"
      },
      "execution_count": null,
      "outputs": [
        {
          "output_type": "stream",
          "name": "stdout",
          "text": [
            "0m 17s (5000 5%) 2.8773\n",
            "0m 31s (10000 10%) 2.7370\n",
            "0m 46s (15000 15%) 2.5729\n",
            "1m 2s (20000 20%) 2.6198\n",
            "1m 19s (25000 25%) 2.7154\n",
            "1m 34s (30000 30%) 3.4417\n",
            "1m 49s (35000 35%) 2.3442\n",
            "2m 9s (40000 40%) 3.1811\n",
            "2m 23s (45000 45%) 2.1088\n",
            "2m 39s (50000 50%) 2.8708\n",
            "2m 54s (55000 55%) 2.5947\n",
            "3m 8s (60000 60%) 2.2667\n",
            "3m 26s (65000 65%) 2.2199\n",
            "3m 48s (70000 70%) 1.3348\n",
            "4m 2s (75000 75%) 2.4543\n",
            "4m 17s (80000 80%) 1.5544\n",
            "4m 31s (85000 85%) 2.7941\n",
            "4m 45s (90000 90%) 2.3146\n",
            "5m 0s (95000 95%) 2.2267\n",
            "5m 14s (100000 100%) 2.0362\n"
          ]
        }
      ]
    },
    {
      "cell_type": "code",
      "source": [
        "plt.figure()\n",
        "plt.plot(all_losses)"
      ],
      "metadata": {
        "id": "kcLqne1HPhaV",
        "colab": {
          "base_uri": "https://localhost:8080/",
          "height": 448
        },
        "outputId": "7d66a084-d490-4c74-b3f9-6566da73f49d"
      },
      "execution_count": null,
      "outputs": [
        {
          "output_type": "execute_result",
          "data": {
            "text/plain": [
              "[<matplotlib.lines.Line2D at 0x7e278afae470>]"
            ]
          },
          "metadata": {},
          "execution_count": 45
        },
        {
          "output_type": "display_data",
          "data": {
            "text/plain": [
              "<Figure size 640x480 with 1 Axes>"
            ],
            "image/png": "[encoded data removed]"
          },
          "metadata": {}
        }
      ]
    },
    {
      "cell_type": "code",
      "source": [
        "max_length = 20\n",
        "\n",
        "# Sample from a category and starting letter\n",
        "def sample(category, start_letter='A'):\n",
        "  with torch.no_grad():  # no need to track history in sampling\n",
        "    category_tensor = categoryTensor(category)\n",
        "    input = inputTensor(start_letter)\n",
        "    hidden = rnn.initHidden()\n",
        "\n",
        "    output_name = start_letter\n",
        "\n",
        "    for i in range(max_length):\n",
        "      output, hidden = rnn(category_tensor, input[0], hidden)\n",
        "      topv, topi = output.topk(1)\n",
        "      topi = topi[0][0]\n",
        "      if topi == n_letters - 1:\n",
        "        break\n",
        "      else:\n",
        "        letter = all_letters[topi]\n",
        "        output_name += letter\n",
        "      input = inputTensor(letter)\n",
        "\n",
        "    return output_name"
      ],
      "metadata": {
        "id": "zEUq31q-1r6x"
      },
      "execution_count": null,
      "outputs": []
    },
    {
      "cell_type": "code",
      "source": [
        "# Get multiple samples from one category and multiple starting letters\n",
        "def samples(category, start_letters='ABC'):\n",
        "  for start_letter in start_letters:\n",
        "    print(sample(category, start_letter))"
      ],
      "metadata": {
        "id": "jw5IGnu01-nX"
      },
      "execution_count": null,
      "outputs": []
    },
    {
      "cell_type": "code",
      "source": [
        "samples('German','GER')"
      ],
      "metadata": {
        "colab": {
          "base_uri": "https://localhost:8080/"
        },
        "id": "otS-ScCp1-jv",
        "outputId": "5ab8e7fa-d523-42e5-cc80-6261c2210e6e"
      },
      "execution_count": null,
      "outputs": [
        {
          "output_type": "stream",
          "name": "stdout",
          "text": [
            "Gangherr\n",
            "Eren\n",
            "Ronger\n"
          ]
        }
      ]
    },
    {
      "cell_type": "code",
      "source": [
        "samples('Japanese','JPN')"
      ],
      "metadata": {
        "colab": {
          "base_uri": "https://localhost:8080/"
        },
        "id": "5iL8oMzG1r3X",
        "outputId": "bca755b8-e905-4a1d-b36c-bc0f70616bab"
      },
      "execution_count": null,
      "outputs": [
        {
          "output_type": "stream",
          "name": "stdout",
          "text": [
            "Janga\n",
            "Panakami\n",
            "Naka\n"
          ]
        }
      ]
    },
    {
      "cell_type": "code",
      "source": [],
      "metadata": {
        "id": "LC1T5x1q1rz-"
      },
      "execution_count": null,
      "outputs": []
    }
  ]
}